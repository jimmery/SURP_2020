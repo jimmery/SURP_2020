{
 "cells": [
  {
   "cell_type": "code",
   "execution_count": 1,
   "metadata": {},
   "outputs": [
    {
     "name": "stdout",
     "output_type": "stream",
     "text": [
      "importing Jupyter notebook from bs_calc.ipynb\n"
     ]
    }
   ],
   "source": [
    "import ipywidgets as widgets\n",
    "\n",
    "import random\n",
    "from poker import Card, Suit, Rank\n",
    "\n",
    "import import_ipynb\n",
    "import bs_calc\n"
   ]
  },
  {
   "cell_type": "code",
   "execution_count": 2,
   "metadata": {},
   "outputs": [],
   "source": [
    "#Player class        \n",
    "class Player(object):\n",
    "    def __init__(self):\n",
    "        self.hand = [] \n",
    "        self.numCards = 2\n",
    "        self.calls = []\n",
    "        \n",
    "    def makeList(self):\n",
    "        allPlayers = {}\n",
    "        numPl = int(input(\"Enter number of players: \"))\n",
    "        \n",
    "        if numPl >= 2 and numPl < 7:\n",
    "            for e in range(numPl):\n",
    "                name = \"Player\" + str(e+1)\n",
    "                allPlayers[name] = {'hand':Player().hand , \n",
    "                                         'Number of Cards' : Player().numCards, 'calls':Player().calls}\n",
    "            return allPlayers\n",
    "        else:\n",
    "            raise Exception(\"Invalid number of players. Enter a number between 2 and 6.\")\n",
    "    "
   ]
  },
  {
   "cell_type": "code",
   "execution_count": 3,
   "metadata": {},
   "outputs": [
    {
     "name": "stdout",
     "output_type": "stream",
     "text": [
      "Enter number of players: 3\n"
     ]
    },
    {
     "data": {
      "text/plain": [
       "{'Player1': {'hand': [], 'Number of Cards': 2, 'calls': []},\n",
       " 'Player2': {'hand': [], 'Number of Cards': 2, 'calls': []},\n",
       " 'Player3': {'hand': [], 'Number of Cards': 2, 'calls': []}}"
      ]
     },
     "execution_count": 3,
     "metadata": {},
     "output_type": "execute_result"
    }
   ],
   "source": [
    "players = Player().makeList()\n",
    "players"
   ]
  },
  {
   "cell_type": "code",
   "execution_count": 4,
   "metadata": {},
   "outputs": [],
   "source": [
    "class Helper:\n",
    "    \n",
    "    def getSuits(self):\n",
    "        handSuits = []\n",
    "        for card in self:\n",
    "            handSuits.append(card.suit)\n",
    "        return handSuits\n",
    "\n",
    "    def getRanks(self):\n",
    "        handRanks = []\n",
    "        count = 0\n",
    "        for card in self:\n",
    "            handRanks.append(card.rank)\n",
    "            count += 1\n",
    "        return handRanks\n",
    "    \n",
    "    def setSuits(self):\n",
    "        print('\\nSPADES = s, HEARTS = h, DIAMONDS = d, CLUBS = c\\n')\n",
    "        suitInput = input('Suit: ')\n",
    "            \n",
    "        return Suit(suitInput)\n",
    "    \n",
    "    def setRanks(self):\n",
    "        print('\\n2, 3, 4, 5, 6, 7, 8 , 9, T, J, Q, K\\n')\n",
    "        rankInput = input('Rank: ')\n",
    "        \n",
    "        return Rank(rankInput)\n",
    "    \n",
    "    def setHand(self):\n",
    "        calledHand = [None]\n",
    "        \n",
    "        display(hand)\n",
    "        handInput = int(input('Hand:'))\n",
    "        \n",
    "        calledHand.insert(0, handInput)\n",
    "        \n",
    "        if handInput == 5:\n",
    "            inputS = Helper().setSuits()\n",
    "            inputS\n",
    "            calledHand.insert(1, inputS)\n",
    "        elif handInput == 8:\n",
    "            inputS = Helper().setSuits()\n",
    "            calledHand.insert(1, inputS)\n",
    "            inputR = Helper().setRanks()\n",
    "            calledHand.insert(2, inputR)\n",
    "        else:\n",
    "            inputR = Helper().setRanks()\n",
    "            calledHand.insert(2, inputR)\n",
    "\n",
    "        return calledHand\n",
    "\n",
    "    def numOfSameCard(self):\n",
    "        ranks = getRanks(self)\n",
    "        rankCount = [ranks.count(rank[0]),ranks.count(rank[1]),ranks.count(rank[2]),ranks.count(rank[3]),\n",
    "                     ranks.count(rank[4]),ranks.count(rank[5]),ranks.count(rank[6]),ranks.count(rank[7]),\n",
    "                     ranks.count(rank[8]),ranks.count(rank[9]),ranks.count(rank[10]),ranks.count(rank[11]),\n",
    "                     ranks.count(rank[12])]\n",
    "        sameRank = max(rankCount)\n",
    "        index = rankCount.index(sameRank)\n",
    "\n",
    "        return sameRank, rank[index]\n",
    "    \n",
    "    def removeDup(self):\n",
    "        rd = list(dict.fromkeys(self))\n",
    "        rd.sort()\n",
    "        return rd"
   ]
  },
  {
   "cell_type": "code",
   "execution_count": 31,
   "metadata": {},
   "outputs": [],
   "source": [
    "class Game:\n",
    "    global deck, suit, rank, hand\n",
    "    deck = list(Card)\n",
    "    suit = list(Suit)\n",
    "    rank = list(Rank)\n",
    "    hand = {1: 'High Card',2:'Pair',3:'Three of a Kind',4:'Straight',5:'Flush',6:'Full House',7:'Four of a Kind',8:'Straight Flush'}\n",
    "    prevCall = [None]\n",
    "        \n",
    "    def shuffleDeck(list):\n",
    "        random.shuffle(deck)\n",
    "\n",
    "    def deal(list):\n",
    "        return deck.pop(0)\n",
    "    \n",
    "    def dealToAllPlayers(self):\n",
    "        count = 1\n",
    "        for player in players:\n",
    "            for e in range(players[player]['Number of Cards']):\n",
    "                #appends the top card into the all Players dictionary\n",
    "                players[player]['hand'].append(Game.deal(deck))\n",
    "            count += 1\n",
    "# save dealt cards into some type of storage. \n",
    "# when saying that it has to be stored, until when should it be stored? only until the game is ended? \n",
    "            \n",
    "    def combineCards(self):\n",
    "        allCards = []\n",
    "        for e in players:\n",
    "            allCards = allCards + players[e]['hand']\n",
    "        return allCards\n",
    "    \n",
    "    def handCall(self):        \n",
    "        currCall = Helper().setHand()\n",
    "        currCall\n",
    "        \n",
    "        if Game.prevCall == [None]:\n",
    "            Game.prevCall = currCall\n",
    "            #append onto player's call dict.\n",
    "            return currCall\n",
    " \n",
    "            \n",
    "        elif currCall[0] > Game.prevCall[0]: \n",
    "            #if: --add more condtions (check for ranks and suits)\n",
    "            Game.prevCall = currCall\n",
    "            return currCall\n",
    "        \n",
    "        elif currCall[0] < Game.prevCall[0]: \n",
    "            display('Call needs to be higher than the previous call. The previous call was:')\n",
    "            display(Game.prevCall)\n",
    "            return Game().handCall()\n",
    "        \n",
    "        \n",
    "        #store the call into save data class, or Player().calls?"
   ]
  },
  {
   "cell_type": "code",
   "execution_count": 32,
   "metadata": {},
   "outputs": [
    {
     "data": {
      "text/plain": [
       "{1: 'High Card',\n",
       " 2: 'Pair',\n",
       " 3: 'Three of a Kind',\n",
       " 4: 'Straight',\n",
       " 5: 'Flush',\n",
       " 6: 'Full House',\n",
       " 7: 'Four of a Kind',\n",
       " 8: 'Straight Flush'}"
      ]
     },
     "metadata": {},
     "output_type": "display_data"
    },
    {
     "name": "stdout",
     "output_type": "stream",
     "text": [
      "Hand:4\n",
      "\n",
      "2, 3, 4, 5, 6, 7, 8 , 9, T, J, Q, K\n",
      "\n",
      "Rank: 3\n",
      "1st if\n"
     ]
    },
    {
     "data": {
      "text/plain": [
       "[4, None, Rank('3')]"
      ]
     },
     "metadata": {},
     "output_type": "display_data"
    },
    {
     "data": {
      "text/plain": [
       "{1: 'High Card',\n",
       " 2: 'Pair',\n",
       " 3: 'Three of a Kind',\n",
       " 4: 'Straight',\n",
       " 5: 'Flush',\n",
       " 6: 'Full House',\n",
       " 7: 'Four of a Kind',\n",
       " 8: 'Straight Flush'}"
      ]
     },
     "metadata": {},
     "output_type": "display_data"
    },
    {
     "name": "stdout",
     "output_type": "stream",
     "text": [
      "Hand:2\n",
      "\n",
      "2, 3, 4, 5, 6, 7, 8 , 9, T, J, Q, K\n",
      "\n",
      "Rank: 3\n"
     ]
    },
    {
     "data": {
      "text/plain": [
       "'Call needs to be higher than the previous call. The pervious call was:'"
      ]
     },
     "metadata": {},
     "output_type": "display_data"
    },
    {
     "data": {
      "text/plain": [
       "[4, None, Rank('3')]"
      ]
     },
     "metadata": {},
     "output_type": "display_data"
    },
    {
     "data": {
      "text/plain": [
       "{1: 'High Card',\n",
       " 2: 'Pair',\n",
       " 3: 'Three of a Kind',\n",
       " 4: 'Straight',\n",
       " 5: 'Flush',\n",
       " 6: 'Full House',\n",
       " 7: 'Four of a Kind',\n",
       " 8: 'Straight Flush'}"
      ]
     },
     "metadata": {},
     "output_type": "display_data"
    },
    {
     "name": "stdout",
     "output_type": "stream",
     "text": [
      "Hand:5\n",
      "\n",
      "SPADES = s, HEARTS = h, DIAMONDS = d, CLUBS = c\n",
      "\n",
      "Suit: s\n",
      "2nd if\n"
     ]
    },
    {
     "data": {
      "text/plain": [
       "[5, Suit('♠'), None]"
      ]
     },
     "metadata": {},
     "output_type": "display_data"
    }
   ],
   "source": [
    "# test\n",
    "display(Game().handCall())\n",
    "display(Game().handCall())\n"
   ]
  },
  {
   "cell_type": "code",
   "execution_count": null,
   "metadata": {},
   "outputs": [],
   "source": [
    "    def bluffCall():\n",
    "        pass\n",
    "# check from prevCall\n",
    "# check the last handCall in the save data class. \n",
    "# if bluff is not accurate, increment numCards of Player() then play another round\n",
    "# else simply start another round\n",
    "    \n",
    "    def start():\n",
    "        pass\n",
    "# bunch of method calls\n",
    "# recursive calls for when the game should end? see notes (loop chart)\n",
    "# to show which player is the winner, check for numCards != 6\n",
    "\n",
    "\n",
    "\n",
    "# after each hand call, ask whether someone would like to call bluff? "
   ]
  },
  {
   "cell_type": "code",
   "execution_count": null,
   "metadata": {},
   "outputs": [],
   "source": [
    "class SaveData(dict):\n",
    "    keys = gameNum\n",
    "    values = roundNum, dealt cards, calls, bluff\n",
    "    pass\n",
    "#     a list class to save hands and calls from previous rounds "
   ]
  },
  {
   "cell_type": "markdown",
   "metadata": {},
   "source": [
    "# Check Poker Hands"
   ]
  },
  {
   "cell_type": "code",
   "execution_count": null,
   "metadata": {},
   "outputs": [],
   "source": [
    "class CheckHands:\n",
    "# check bs_calc methods, implement 2 wild card...? \n",
    "\n",
    "    def checkFlush(self, inpSuit):\n",
    "        self = getSuits(self)\n",
    "        check = Suit(inpSuit) #edit? might take flushSuit in actual Suit('s') format? \n",
    "\n",
    "        s = suit[3]\n",
    "        h = suit[2]\n",
    "        d = suit[1]\n",
    "        c = suit[0]\n",
    "        num = max(self.count(s),self.count(h),self.count(d),self.count(c))\n",
    "        if num == self.count(s):\n",
    "            maxSuit = s\n",
    "        elif num == self.count(h):\n",
    "            maxSuit = h\n",
    "        elif num == self.count(d):\n",
    "            maxSuit = d\n",
    "        elif num == self.count(c):\n",
    "            maxSuit = c\n",
    "        if (num < 5) or check != maxSuit:\n",
    "            return False\n",
    "        else:\n",
    "            return True #, maxSuit, num\n",
    "    \n",
    "    def checkStraight(self, low, high):\n",
    "        self = getRanks(self)\n",
    "        self = removeDup(self) #remove duplicates and sort\n",
    "        self = self[self.index(Rank(low)):self.index(Rank(high))+1] #get specified hand\n",
    "\n",
    "        range_rank = []\n",
    "        for i in range(rank.index(Rank(low)), rank.index(Rank(high))+1):\n",
    "            range_rank.append(rank[i])\n",
    "\n",
    "        if self == range_rank:\n",
    "            return True, range_rank\n",
    "        else:\n",
    "            return False \n",
    "        \n",
    "    def checkStraightFlush(self, suit, low, high):\n",
    "        if(checkFlush(self, suit) and checkStraight(self, low, high)):\n",
    "            return True\n",
    "        else:\n",
    "            return False\n",
    "    \n",
    "    def checkFourKind(self, inpQuad):\n",
    "        num, cardQuad = numOfSameCard(self)\n",
    "\n",
    "        if num == 4 and cardQuad == inpQuad:\n",
    "            return True\n",
    "        else:\n",
    "            return False\n",
    "        \n",
    "    def check3Kind(self, inpTriple):\n",
    "        num, cardTriple = numOfSameCard(self)\n",
    "\n",
    "        if num >= 3 and cardTriple == inpTriple:\n",
    "            return True\n",
    "        else:\n",
    "            return False\n",
    "    \n",
    "    def checkPair(self, inpDouble):\n",
    "        num, cardDouble = numOfSameCard(self)\n",
    "\n",
    "        if num >= 2 and cardDouble == inpDouble:\n",
    "            return True\n",
    "        else:\n",
    "            return False\n",
    "        \n",
    "    def checkFullHouse(self, inpTriple, inpDouble):\n",
    "        if check3Kind(self, inpTriple) and checkPair(self, inpDouble):\n",
    "            return True\n",
    "        else:\n",
    "            return False"
   ]
  },
  {
   "cell_type": "code",
   "execution_count": null,
   "metadata": {},
   "outputs": [],
   "source": [
    "#     inputRank = widgets.Dropdown(options=[rank[0],rank[1],rank[2],rank[3],rank[4],rank[5],rank[6],\n",
    "#                                        rank[7],rank[8],rank[9],rank[10],rank[11],rank[12]],\n",
    "#                                        value=None,\n",
    "#                                        description='Rank:',\n",
    "#                                        disabled=False)\n",
    "#     inputSuit = widgets.Dropdown(options=[suit[0],suit[1],suit[2],suit[3]],\n",
    "#                                        value=None,\n",
    "#                                        description='Suit:',\n",
    "#                                        disabled=False)\n",
    "#     inputHand = widgets.Dropdown(options=[hand[0],hand[1],hand[2],hand[3],hand[4],hand[5],hand[6]],\n",
    "#                                        value=None,\n",
    "#                                        description='Hand:',\n",
    "#                                        disabled=False)"
   ]
  },
  {
   "cell_type": "code",
   "execution_count": null,
   "metadata": {},
   "outputs": [],
   "source": []
  }
 ],
 "metadata": {
  "kernelspec": {
   "display_name": "Python 3",
   "language": "python",
   "name": "python3"
  },
  "language_info": {
   "codemirror_mode": {
    "name": "ipython",
    "version": 3
   },
   "file_extension": ".py",
   "mimetype": "text/x-python",
   "name": "python",
   "nbconvert_exporter": "python",
   "pygments_lexer": "ipython3",
   "version": "3.7.6"
  }
 },
 "nbformat": 4,
 "nbformat_minor": 4
}
