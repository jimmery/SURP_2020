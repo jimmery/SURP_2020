{
 "cells": [
  {
   "cell_type": "code",
   "execution_count": 1,
   "metadata": {},
   "outputs": [],
   "source": [
    "import random\n",
    "import ipywidgets as widgets"
   ]
  },
  {
   "cell_type": "code",
   "execution_count": 2,
   "metadata": {},
   "outputs": [],
   "source": [
    "#Create a Card \n",
    "class Card(object):\n",
    "    def __init__(self, value, suit):\n",
    "        self.value = value\n",
    "        self.suit = suit\n",
    "    def __repr__(self):\n",
    "        name = str(self.value) + \" of \" + self.suit\n",
    "        return name\n"
   ]
  },
  {
   "cell_type": "code",
   "execution_count": 3,
   "metadata": {},
   "outputs": [],
   "source": [
    "#Create a deck of cards\n",
    "class DeckOfCards(list):\n",
    "    def __init__(self):\n",
    "        self.suit = [\"Diamonds\" , \"Hearts\" , \"Clubs\" , \"Spades\"]\n",
    "        self.value = {\"Two\":2,     #storing the values in dictionaries\n",
    "                 \"Three\":3,   #rank level of the card\n",
    "                 \"Four\":4,\n",
    "                 \"Five\":5,\n",
    "                 \"Six\":6,\n",
    "                 \"Seven\":7,\n",
    "                 \"Eight\":8,\n",
    "                 \"Nine\":9,\n",
    "                 \"Ten\":10,\n",
    "                 \"Jack\":11,\n",
    "                 \"Queen\":12,\n",
    "                 \"King\":13,\n",
    "                 \"Ace\":14}  #11,12,13,14 are jack queen king, and ace respectively\n",
    "        for num in self.value:\n",
    "            for s in self.suit:\n",
    "                self.append(Card(num, s))\n",
    "                \n",
    "#Shuffle the Deck\n",
    "def shuffleDeck(list):\n",
    "    random.shuffle(list)\n",
    "#pops the top card of the deck\n",
    "def deal(list):\n",
    "    return list.pop(0)\n",
    "\n",
    "\n",
    "#Player Class\n",
    "class Player(object):\n",
    "    def __init__(self):\n",
    "        self.hand = []\n",
    "        self.numCards = 2\n"
   ]
  },
  {
   "cell_type": "code",
   "execution_count": 4,
   "metadata": {},
   "outputs": [
    {
     "name": "stdout",
     "output_type": "stream",
     "text": [
      "[Queen of Spades, Eight of Spades, Queen of Diamonds, Jack of Clubs, Seven of Clubs, Ace of Hearts, Four of Spades, Six of Clubs, Four of Clubs, Three of Diamonds, Three of Hearts, Eight of Clubs, Eight of Diamonds, Four of Diamonds, Seven of Hearts, Jack of Spades, Two of Diamonds, Three of Spades, King of Spades, King of Hearts, Four of Hearts, Queen of Hearts, Six of Spades, Three of Clubs, Two of Hearts, Queen of Clubs, Ace of Clubs, Nine of Diamonds, Seven of Diamonds, King of Clubs, Jack of Hearts, Ten of Hearts, Ace of Spades, Seven of Spades, Six of Hearts, Nine of Hearts, Nine of Clubs, Ten of Diamonds, Five of Spades, Five of Clubs, Two of Spades, King of Diamonds, Two of Clubs, Six of Diamonds, Nine of Spades, Ten of Spades, Eight of Hearts, Ten of Clubs, Ace of Diamonds, Five of Hearts, Five of Diamonds, Jack of Diamonds]\n"
     ]
    }
   ],
   "source": [
    "deck = DeckOfCards() #generate the deck of cards and immediately shuffling it\n",
    "shuffleDeck(deck)\n",
    "print(deck)"
   ]
  },
  {
   "cell_type": "code",
   "execution_count": 14,
   "metadata": {},
   "outputs": [
    {
     "data": {
      "application/vnd.jupyter.widget-view+json": {
       "model_id": "1a3103751ab547349c810ad047e90dbe",
       "version_major": 2,
       "version_minor": 0
      },
      "text/plain": [
       "Dropdown(description='Players: ', options=(2, 3, 4, 5, 6), value=2)"
      ]
     },
     "metadata": {},
     "output_type": "display_data"
    },
    {
     "data": {
      "application/vnd.jupyter.widget-view+json": {
       "model_id": "da8210be239f4345adce576531610428",
       "version_major": 2,
       "version_minor": 0
      },
      "text/plain": [
       "Button(description='Submit # of Players', style=ButtonStyle())"
      ]
     },
     "metadata": {},
     "output_type": "display_data"
    }
   ],
   "source": [
    "#using widget to allow user to change number of players\n",
    "playerCount = widgets.Dropdown(\n",
    "        options = [2,3,4,5,6],\n",
    "        value = 2,\n",
    "        description = \"Players: \",\n",
    "        disabled = False,)\n",
    "display(playerCount)\n",
    "\n",
    "#Code here creates a button to allow to compiler to see how many players selected (Will be Implemented in final code)\n",
    "def clickButton(b):\n",
    "    makeGame()\n",
    "acceptButton = widgets.Button(description='Submit # of Players', disabled=False,)\n",
    "acceptButton.on_click(clickButton)\n",
    "display(acceptButton)"
   ]
  },
  {
   "cell_type": "code",
   "execution_count": 15,
   "metadata": {
    "scrolled": false
   },
   "outputs": [],
   "source": [
    "#make the number of players\n",
    "def makePlayers():\n",
    "    allPlayers = {}\n",
    "    for e in range(playerCount.value):\n",
    "        pName = \"Player\" + str(e+1)\n",
    "        allPlayers[pName] = {'hand':Player().hand , 'Number of Cards' : Player().numCards}\n",
    "    return allPlayers\n",
    "players = makePlayers()\n"
   ]
  },
  {
   "cell_type": "code",
   "execution_count": 16,
   "metadata": {},
   "outputs": [
    {
     "name": "stdout",
     "output_type": "stream",
     "text": [
      "{'Player1': {'hand': [Four of Clubs, Three of Diamonds], 'Number of Cards': 2}, 'Player2': {'hand': [Three of Hearts, Eight of Clubs], 'Number of Cards': 2}}\n"
     ]
    }
   ],
   "source": [
    "#Takes the number of players and deals the appropriate number of cards to each player\n",
    "def dealToAllPlayers():\n",
    "    count = 1\n",
    "    for player in players:\n",
    "        for e in range(players[player]['Number of Cards']):\n",
    "            players[player]['hand'].append(deal(deck)) #appends the top card into the all Players dictionary\n",
    "        count += 1\n",
    "\n",
    "dealToAllPlayers()\n",
    "print(players)"
   ]
  },
  {
   "cell_type": "code",
   "execution_count": 17,
   "metadata": {},
   "outputs": [
    {
     "data": {
      "text/plain": [
       "[Four of Clubs, Three of Diamonds, Three of Hearts, Eight of Clubs]"
      ]
     },
     "execution_count": 17,
     "metadata": {},
     "output_type": "execute_result"
    }
   ],
   "source": [
    "#put all cards in one list to be judged for poker hands\n",
    "def combineCards():\n",
    "    allCards = []\n",
    "    for e in players:\n",
    "        allCards = allCards + players[e]['hand']\n",
    "    return allCards\n",
    "combineCards()"
   ]
  },
  {
   "cell_type": "code",
   "execution_count": 18,
   "metadata": {},
   "outputs": [],
   "source": [
    "def getSuits(self):\n",
    "    suit = []\n",
    "    for card in self:\n",
    "        suit.append(card.suit)\n",
    "    return suit\n",
    "\n",
    "def getRanks(self):\n",
    "    rank = []\n",
    "    count = 0\n",
    "    for card in self:\n",
    "        rank.append(DeckOfCards().value[self[count].value])\n",
    "        count += 1\n",
    "    return rank"
   ]
  },
  {
   "cell_type": "code",
   "execution_count": 19,
   "metadata": {},
   "outputs": [
    {
     "name": "stdout",
     "output_type": "stream",
     "text": [
      "['Clubs', 'Diamonds', 'Hearts', 'Clubs']\n",
      "[4, 3, 3, 8]\n"
     ]
    }
   ],
   "source": [
    "print(getSuits(combineCards()))\n",
    "print(getRanks(combineCards()))"
   ]
  },
  {
   "cell_type": "code",
   "execution_count": 20,
   "metadata": {},
   "outputs": [
    {
     "name": "stdout",
     "output_type": "stream",
     "text": [
      "False\n"
     ]
    }
   ],
   "source": [
    "def checkFlush(self, num):\n",
    "    s = 'Spades'\n",
    "    h = 'Hearts'\n",
    "    d = \"Diamonds\"\n",
    "    c = \"clubs\"\n",
    "    num = max(self.count(s),self.count(h),self.count(d),self.count(c))\n",
    "    if num == self.count(s):\n",
    "        maxSuit = 'Spades'\n",
    "    elif num == self.count(h):\n",
    "        maxSuit = 'Hearts'\n",
    "    elif num == self.count(d):\n",
    "        maxSuit = 'Diamonds'\n",
    "    elif num == self.count(c):\n",
    "        maxSuit = 'Clubs'\n",
    "    if (num < 5):\n",
    "        return False\n",
    "    else:\n",
    "        return True, maxSuit, num\n",
    "\n",
    "isFlush = checkFlush(getSuits(combineCards()), 5)\n",
    "print (isFlush)\n"
   ]
  },
  {
   "cell_type": "markdown",
   "metadata": {},
   "source": []
  },
  {
   "cell_type": "code",
   "execution_count": 21,
   "metadata": {},
   "outputs": [
    {
     "data": {
      "text/plain": [
       "False"
      ]
     },
     "execution_count": 21,
     "metadata": {},
     "output_type": "execute_result"
    }
   ],
   "source": [
    "def checkStraight(self, length):\n",
    "    temp = list(set(self))  #sorts and removes duplicates\n",
    "    while True:\n",
    "        inARow = 0\n",
    "        start = temp[0]\n",
    "        for num in range(len(temp)):\n",
    "            if (temp[num] == start + num):\n",
    "                inARow += 1\n",
    "        if inARow < length or len(temp) > length:\n",
    "            temp.pop(0)\n",
    "        if len(temp) < length:\n",
    "            return False\n",
    "        if inARow >= length:\n",
    "            return True , length\n",
    "\n",
    "        \n",
    "checkStraight(getRanks(combineCards()),5)\n",
    "\n",
    "def checkStraightFlush(ranks, suits, length):\n",
    "    isFlush, maxSuit, size = checkFlush(suits, length)\n",
    "    if isFlush:\n",
    "        flushRanks = []\n",
    "        i = 0\n",
    "        for e in suits:\n",
    "            if e == maxSuit:\n",
    "                flushRanks.append(ranks[i])\n",
    "            i += 1\n",
    "        if checkStraight(flushRanks, length):\n",
    "            return True\n",
    "        else:\n",
    "            return False\n",
    "        \n",
    "    else:\n",
    "        return False\n",
    "\n",
    "checkStraightFlush([1,2,3,4,5,6,8], ['Hearts','Hearts','Hearts','Hearts','Diamons','Hearts','Hearts'], 6)"
   ]
  },
  {
   "cell_type": "code",
   "execution_count": 22,
   "metadata": {},
   "outputs": [
    {
     "name": "stdout",
     "output_type": "stream",
     "text": [
      "False\n"
     ]
    }
   ],
   "source": [
    "ranks = getRanks(combineCards())\n",
    "numOfSameCard = max(ranks.count(2),ranks.count(3),ranks.count(4),ranks.count(5),\n",
    "              ranks.count(6),ranks.count(7),ranks.count(8),ranks.count(9),\n",
    "              ranks.count(10),ranks.count(11),ranks.count(12),ranks.count(13),ranks.count(14))\n",
    "\n",
    "\n",
    "def checkFourKind(self):\n",
    "    if numOfSameCard == 4:\n",
    "        return True\n",
    "    else:\n",
    "        return False\n",
    "\n",
    "print (checkFourKind(ranks))\n",
    "\n",
    "def check3Kind(self):\n",
    "    if numOfSameCard == 3:\n",
    "        return True\n",
    "    else:\n",
    "        return False\n",
    "\n",
    "def checkPair(self):\n",
    "    if numOfSameCard == 2:\n",
    "        return True\n",
    "    else:\n",
    "        return False\n",
    "\n",
    "\n"
   ]
  },
  {
   "cell_type": "code",
   "execution_count": 23,
   "metadata": {},
   "outputs": [
    {
     "data": {
      "application/vnd.jupyter.widget-view+json": {
       "model_id": "1a3103751ab547349c810ad047e90dbe",
       "version_major": 2,
       "version_minor": 0
      },
      "text/plain": [
       "Dropdown(description='Players: ', options=(2, 3, 4, 5, 6), value=2)"
      ]
     },
     "metadata": {},
     "output_type": "display_data"
    },
    {
     "data": {
      "application/vnd.jupyter.widget-view+json": {
       "model_id": "4b99b31706054e8b96c95cdf1b14e765",
       "version_major": 2,
       "version_minor": 0
      },
      "text/plain": [
       "Button(description='Submit # of Players', style=ButtonStyle())"
      ]
     },
     "metadata": {},
     "output_type": "display_data"
    },
    {
     "name": "stdout",
     "output_type": "stream",
     "text": [
      "After Submission press Start to begin Game:\n"
     ]
    },
    {
     "data": {
      "application/vnd.jupyter.widget-view+json": {
       "model_id": "5cfa03aa37f844568e7c73fa535f4771",
       "version_major": 2,
       "version_minor": 0
      },
      "text/plain": [
       "Button(description='Start', style=ButtonStyle())"
      ]
     },
     "metadata": {},
     "output_type": "display_data"
    }
   ],
   "source": [
    "display(playerCount)\n",
    "acceptButton = widgets.Button(description='Submit # of Players', disabled=False,)\n",
    "acceptButton.on_click(clickButton)\n",
    "display(acceptButton)\n",
    "\n",
    "def makeGame():\n",
    "    deck = DeckOfCards()\n",
    "    shuffleDeck(deck)\n",
    "    players = makePlayers()\n",
    "    acceptButton.disabled = True\n",
    "    \n",
    "\n",
    "def game(b):\n",
    "    startGameButton.disabled = True\n",
    "    \n",
    "    \n",
    "    \n",
    "    \n",
    "    \n",
    "    \n",
    "    \n",
    "    \n",
    "print (\"After Submission press Start to begin Game:\")\n",
    "startGameButton = widgets.Button(description='Start', disabled=False,)\n",
    "startGameButton.on_click(game)\n",
    "display(startGameButton)\n",
    "\n"
   ]
  },
  {
   "cell_type": "code",
   "execution_count": null,
   "metadata": {},
   "outputs": [],
   "source": []
  }
 ],
 "metadata": {
  "kernelspec": {
   "display_name": "Python 3",
   "language": "python",
   "name": "python3"
  },
  "language_info": {
   "codemirror_mode": {
    "name": "ipython",
    "version": 3
   },
   "file_extension": ".py",
   "mimetype": "text/x-python",
   "name": "python",
   "nbconvert_exporter": "python",
   "pygments_lexer": "ipython3",
   "version": "3.7.6"
  }
 },
 "nbformat": 4,
 "nbformat_minor": 4
}
